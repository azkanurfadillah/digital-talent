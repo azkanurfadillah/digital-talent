{
 "cells": [
  {
   "cell_type": "code",
   "execution_count": 44,
   "metadata": {},
   "outputs": [],
   "source": [
    "import pymysql\n",
    "import pandas as pd\n",
    "from sqlalchemy import create_engine\n",
    "\n",
    "host = 'localhost'\n",
    "port = '3306'\n",
    "username = 'root'\n",
    "password = ''\n",
    "database = 'classicmodels'\n",
    "\n",
    "engine = create_engine ('mysql+pymysql://'+username+':'+password+'@'+host+':'+port+'/'+database)\n",
    "\n",
    "def run(sql) :\n",
    "    df = pd.read_sql_query(sql, engine)\n",
    "    return df"
   ]
  },
  {
   "cell_type": "markdown",
   "metadata": {},
   "source": [
    "# Konversi CSV ke DataFrame"
   ]
  },
  {
   "cell_type": "code",
   "execution_count": 50,
   "metadata": {},
   "outputs": [],
   "source": [
    "df_fromcsv = pd.read_csv('a_mahasiswa.csv')\n",
    "df_fromcsv.to_sql(name = 'mahasiswa' , con = engine, \n",
    "                  if_exists = 'replace', index= False)\n",
    "# if_exists = 'fail' / 'replace' / 'append'"
   ]
  },
  {
   "cell_type": "code",
   "execution_count": 51,
   "metadata": {},
   "outputs": [
    {
     "name": "stdout",
     "output_type": "stream",
     "text": [
      "   ID   NAMA\n",
      "0  11    ANI\n",
      "1  22   BUDI\n",
      "2  33  CITRA\n",
      "3  44  DAMAR\n",
      "4  55   ESTI\n"
     ]
    }
   ],
   "source": [
    "df_results = run(\"SELECT * FROM mahasiswa\")\n",
    "print(df_results)"
   ]
  },
  {
   "cell_type": "code",
   "execution_count": 52,
   "metadata": {},
   "outputs": [
    {
     "data": {
      "text/plain": [
       "<sqlalchemy.engine.result.ResultProxy at 0x87a3f28>"
      ]
     },
     "execution_count": 52,
     "metadata": {},
     "output_type": "execute_result"
    }
   ],
   "source": [
    "engine.execute(\"INSERT INTO mahasiswa VALUES(66, 'FAJAR')\")"
   ]
  },
  {
   "cell_type": "code",
   "execution_count": 54,
   "metadata": {},
   "outputs": [
    {
     "name": "stdout",
     "output_type": "stream",
     "text": [
      "   ID   NAMA\n",
      "0  11    ANI\n",
      "1  22   BUDI\n",
      "2  33  CITRA\n",
      "3  44  DAMAR\n",
      "4  55   ESTI\n",
      "5  66  FAJAR\n"
     ]
    }
   ],
   "source": [
    "df_results = run(\"SELECT * FROM mahasiswa\")\n",
    "print(df_results)"
   ]
  },
  {
   "cell_type": "code",
   "execution_count": 56,
   "metadata": {},
   "outputs": [
    {
     "data": {
      "text/plain": [
       "<sqlalchemy.engine.result.ResultProxy at 0x8760b00>"
      ]
     },
     "execution_count": 56,
     "metadata": {},
     "output_type": "execute_result"
    }
   ],
   "source": [
    "#menambahkan data dengan variabel\n",
    "\n",
    "id_mhs = '77'\n",
    "nama_mhs = 'GILANG'\n",
    "engine.execute(\"INSERT INTO mahasiswa VALUES(\"+id_mhs+\", '\"+nama_mhs+\"')\")"
   ]
  },
  {
   "cell_type": "code",
   "execution_count": 57,
   "metadata": {},
   "outputs": [
    {
     "name": "stdout",
     "output_type": "stream",
     "text": [
      "   ID    NAMA\n",
      "0  11     ANI\n",
      "1  22    BUDI\n",
      "2  33   CITRA\n",
      "3  44   DAMAR\n",
      "4  55    ESTI\n",
      "5  66   FAJAR\n",
      "6  77  GILANG\n"
     ]
    }
   ],
   "source": [
    "df_results = run(\"SELECT * FROM mahasiswa\")\n",
    "print(df_results)"
   ]
  },
  {
   "cell_type": "code",
   "execution_count": 58,
   "metadata": {},
   "outputs": [
    {
     "data": {
      "text/plain": [
       "<sqlalchemy.engine.result.ResultProxy at 0x8760c50>"
      ]
     },
     "execution_count": 58,
     "metadata": {},
     "output_type": "execute_result"
    }
   ],
   "source": [
    "#ANI JADI ANDI\n",
    "engine.execute(\"UPDATE mahasiswa SET NAMA = 'ANDI' WHERE ID = 11\")"
   ]
  },
  {
   "cell_type": "code",
   "execution_count": 59,
   "metadata": {},
   "outputs": [
    {
     "name": "stdout",
     "output_type": "stream",
     "text": [
      "   ID    NAMA\n",
      "0  11    ANDI\n",
      "1  22    BUDI\n",
      "2  33   CITRA\n",
      "3  44   DAMAR\n",
      "4  55    ESTI\n",
      "5  66   FAJAR\n",
      "6  77  GILANG\n"
     ]
    }
   ],
   "source": [
    "df_results = run(\"SELECT * FROM mahasiswa\")\n",
    "print(df_results)"
   ]
  },
  {
   "cell_type": "code",
   "execution_count": null,
   "metadata": {},
   "outputs": [],
   "source": []
  },
  {
   "cell_type": "markdown",
   "metadata": {},
   "source": [
    "## EXPORT DATAFRAME ke CSV"
   ]
  },
  {
   "cell_type": "code",
   "execution_count": 61,
   "metadata": {},
   "outputs": [],
   "source": [
    "df_results.to_csv(\"dftocsv_mahasiswa.csv\", index=False)"
   ]
  },
  {
   "cell_type": "code",
   "execution_count": null,
   "metadata": {},
   "outputs": [],
   "source": []
  },
  {
   "cell_type": "code",
   "execution_count": null,
   "metadata": {},
   "outputs": [],
   "source": []
  }
 ],
 "metadata": {
  "kernelspec": {
   "display_name": "Python 3",
   "language": "python",
   "name": "python3"
  },
  "language_info": {
   "codemirror_mode": {
    "name": "ipython",
    "version": 3
   },
   "file_extension": ".py",
   "mimetype": "text/x-python",
   "name": "python",
   "nbconvert_exporter": "python",
   "pygments_lexer": "ipython3",
   "version": "3.7.0"
  }
 },
 "nbformat": 4,
 "nbformat_minor": 2
}
