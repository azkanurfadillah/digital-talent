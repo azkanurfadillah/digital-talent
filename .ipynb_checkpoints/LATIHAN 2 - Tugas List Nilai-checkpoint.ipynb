{
 "cells": [
  {
   "cell_type": "code",
   "execution_count": 10,
   "metadata": {},
   "outputs": [
    {
     "name": "stdout",
     "output_type": "stream",
     "text": [
      "[35, 21, 18, 2, 92, 7, 29, 29, 61, 66, 27, 85, 89, 20, 13, 67, 13, 90, 1, 13, 23, 66, 42, 64, 59, 91, 88, 73, 30, 22, 71, 29, 86, 43, 74, 88, 48, 27, 63, 93, 53, 87, 87, 66, 92, 12, 33, 3, 41, 25, 69, 16, 38, 17, 59, 21, 35, 75, 29, 90, 21, 19, 71, 3, 15, 99, 85, 46, 1, 29, 71, 69, 46, 61, 29, 72, 37, 3, 46, 30, 72, 16, 51, 10, 56, 82, 30, 61, 93, 95, 48, 48, 49, 15, 37, 6, 71, 22, 82, 26, 77, 2, 49, 28, 92, 71, 44, 34, 88, 81, 22, 34, 84, 69, 73, 94, 45, 8, 84, 1, 7, 91, 44, 23, 21, 2, 21, 16, 32, 34, 19, 85, 49, 5, 23, 76, 93, 35, 25, 23, 66, 28, 9, 8, 89, 46, 43, 18, 69, 42, 88, 93, 82, 66, 28, 5, 69, 30, 55, 32, 61, 10, 29, 14, 95, 12, 47, 40, 21, 33, 60, 32, 93, 36, 92, 13, 37, 17, 88, 73, 4, 30, 96, 17, 81, 68, 46, 59, 37, 73, 57, 93, 41, 31, 88, 47, 70, 47, 10, 9, 32, 72, 60, 31, 51, 38, 61, 53, 96, 84, 95, 2, 23, 64, 38, 20, 83, 79, 6, 84, 22, 96, 77, 16, 10, 71, 24, 45, 95, 33, 5, 77, 33, 74, 78, 83, 96, 16, 11, 27, 33, 37, 60, 80, 44, 16, 45, 26, 13, 58]\n"
     ]
    }
   ],
   "source": [
    "import random\n",
    "\n",
    "nilaitugas = []\n",
    "for i in range(250):\n",
    "    nilaitugas.append(random.randrange(1,100,1))\n",
    "print (nilaitugas)\n"
   ]
  },
  {
   "cell_type": "code",
   "execution_count": 11,
   "metadata": {},
   "outputs": [
    {
     "name": "stdout",
     "output_type": "stream",
     "text": [
      "35\n",
      "21\n",
      "7\n",
      "29\n",
      "29\n",
      "61\n",
      "27\n",
      "85\n",
      "89\n",
      "13\n",
      "67\n",
      "13\n",
      "1\n",
      "13\n",
      "23\n",
      "59\n",
      "91\n",
      "73\n",
      "71\n",
      "29\n",
      "43\n",
      "27\n",
      "63\n",
      "93\n",
      "53\n",
      "87\n",
      "87\n",
      "33\n",
      "3\n",
      "41\n",
      "25\n",
      "69\n",
      "17\n",
      "59\n",
      "21\n",
      "35\n",
      "75\n",
      "29\n",
      "21\n",
      "19\n",
      "71\n",
      "3\n",
      "15\n",
      "99\n",
      "85\n",
      "1\n",
      "29\n",
      "71\n",
      "69\n",
      "61\n",
      "29\n",
      "37\n",
      "3\n",
      "51\n",
      "61\n",
      "93\n",
      "95\n",
      "49\n",
      "15\n",
      "37\n",
      "71\n",
      "77\n",
      "49\n",
      "71\n",
      "81\n",
      "69\n",
      "73\n",
      "45\n",
      "1\n",
      "7\n",
      "91\n",
      "23\n",
      "21\n",
      "21\n",
      "19\n",
      "85\n",
      "49\n",
      "5\n",
      "23\n",
      "93\n",
      "35\n",
      "25\n",
      "23\n",
      "9\n",
      "89\n",
      "43\n",
      "69\n",
      "93\n",
      "5\n",
      "69\n",
      "55\n",
      "61\n",
      "29\n",
      "95\n",
      "47\n",
      "21\n",
      "33\n",
      "93\n",
      "13\n",
      "37\n",
      "17\n",
      "73\n",
      "17\n",
      "81\n",
      "59\n",
      "37\n",
      "73\n",
      "57\n",
      "93\n",
      "41\n",
      "31\n",
      "47\n",
      "47\n",
      "9\n",
      "31\n",
      "51\n",
      "61\n",
      "53\n",
      "95\n",
      "23\n",
      "83\n",
      "79\n",
      "77\n",
      "71\n",
      "45\n",
      "95\n",
      "33\n",
      "5\n",
      "77\n",
      "33\n",
      "83\n",
      "11\n",
      "27\n",
      "33\n",
      "37\n",
      "45\n",
      "13\n"
     ]
    }
   ],
   "source": [
    "#Nilai yang ganjil\n",
    "\n",
    "for n in nilaitugas:\n",
    "    if n%2==1:\n",
    "#         print(n)"
   ]
  },
  {
   "cell_type": "code",
   "execution_count": 12,
   "metadata": {},
   "outputs": [
    {
     "name": "stdout",
     "output_type": "stream",
     "text": [
      "92\n",
      "85\n",
      "89\n",
      "90\n",
      "91\n",
      "88\n",
      "73\n",
      "71\n",
      "86\n",
      "74\n",
      "88\n",
      "93\n",
      "87\n",
      "87\n",
      "92\n",
      "75\n",
      "90\n",
      "71\n",
      "99\n",
      "85\n",
      "71\n",
      "72\n",
      "72\n",
      "82\n",
      "93\n",
      "95\n",
      "71\n",
      "82\n",
      "77\n",
      "92\n",
      "71\n",
      "88\n",
      "81\n",
      "84\n",
      "73\n",
      "94\n",
      "84\n",
      "91\n",
      "85\n",
      "76\n",
      "93\n",
      "89\n",
      "88\n",
      "93\n",
      "82\n",
      "95\n",
      "93\n",
      "92\n",
      "88\n",
      "73\n",
      "96\n",
      "81\n",
      "73\n",
      "93\n",
      "88\n",
      "72\n",
      "96\n",
      "84\n",
      "95\n",
      "83\n",
      "79\n",
      "84\n",
      "96\n",
      "77\n",
      "71\n",
      "95\n",
      "77\n",
      "74\n",
      "78\n",
      "83\n",
      "96\n",
      "80\n"
     ]
    }
   ],
   "source": [
    "#nilai > 70\n",
    "\n",
    "for n in nilaitugas:\n",
    "    if n>70:\n",
    "        print(n)"
   ]
  },
  {
   "cell_type": "code",
   "execution_count": 5,
   "metadata": {},
   "outputs": [],
   "source": [
    "#Standar Devisiasi "
   ]
  },
  {
   "cell_type": "code",
   "execution_count": 14,
   "metadata": {},
   "outputs": [
    {
     "ename": "NameError",
     "evalue": "name 'maks' is not defined",
     "output_type": "error",
     "traceback": [
      "\u001b[1;31m---------------------------------------------------------------------------\u001b[0m",
      "\u001b[1;31mNameError\u001b[0m                                 Traceback (most recent call last)",
      "\u001b[1;32m<ipython-input-14-ea9e9055542d>\u001b[0m in \u001b[0;36m<module>\u001b[1;34m()\u001b[0m\n\u001b[0;32m      2\u001b[0m \u001b[1;33m\u001b[0m\u001b[0m\n\u001b[0;32m      3\u001b[0m \u001b[1;32mfor\u001b[0m \u001b[0mn\u001b[0m \u001b[1;32min\u001b[0m \u001b[0mnilaitugas\u001b[0m\u001b[1;33m:\u001b[0m\u001b[1;33m\u001b[0m\u001b[0m\n\u001b[1;32m----> 4\u001b[1;33m     \u001b[1;32mif\u001b[0m \u001b[0mn\u001b[0m \u001b[1;33m>\u001b[0m \u001b[0mmaks\u001b[0m\u001b[1;33m:\u001b[0m\u001b[1;33m\u001b[0m\u001b[0m\n\u001b[0m\u001b[0;32m      5\u001b[0m         \u001b[0mmaks\u001b[0m \u001b[1;33m=\u001b[0m \u001b[0mn\u001b[0m\u001b[1;33m\u001b[0m\u001b[0m\n",
      "\u001b[1;31mNameError\u001b[0m: name 'maks' is not defined"
     ]
    }
   ],
   "source": [
    "#Maximum\n",
    "maks=0\n",
    "for n in nilaitugas:\n",
    "    if n > maks:\n",
    "        maks = n"
   ]
  },
  {
   "cell_type": "code",
   "execution_count": 71,
   "metadata": {},
   "outputs": [
    {
     "data": {
      "text/plain": [
       "1"
      ]
     },
     "execution_count": 71,
     "metadata": {},
     "output_type": "execute_result"
    }
   ],
   "source": [
    "#Minimum\n",
    "\n",
    "min(nilaitugas)"
   ]
  },
  {
   "cell_type": "code",
   "execution_count": null,
   "metadata": {},
   "outputs": [],
   "source": [
    "#Modus\n"
   ]
  }
 ],
 "metadata": {
  "kernelspec": {
   "display_name": "Python 3",
   "language": "python",
   "name": "python3"
  },
  "language_info": {
   "codemirror_mode": {
    "name": "ipython",
    "version": 3
   },
   "file_extension": ".py",
   "mimetype": "text/x-python",
   "name": "python",
   "nbconvert_exporter": "python",
   "pygments_lexer": "ipython3",
   "version": "3.7.0"
  }
 },
 "nbformat": 4,
 "nbformat_minor": 2
}
