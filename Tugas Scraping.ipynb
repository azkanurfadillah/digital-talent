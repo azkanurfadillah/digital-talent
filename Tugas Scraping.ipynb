{
 "cells": [
  {
   "cell_type": "code",
   "execution_count": 13,
   "metadata": {},
   "outputs": [
    {
     "name": "stdout",
     "output_type": "stream",
     "text": [
      "<class 'bytes'>\n",
      "b'!DOCTYPE html>\\n<html>\\n <head>\\n <title>detikNews - Berita hari ini di Indonesia dan Internasional</title>\\n<meta name=\"description\" content=\"Info berita terbaru hari ini baik peristiwa, kecelakaan, kriminal, hukum, berita unik, Politik, dan liputan khusus di Indonesia dan Internasional\" itemprop=\"description\" />\\n<meta charset=\"utf-8\">\\n<meta http-equiv=\"X-UA-Compatible\" content=\"text/html; charset=UTF-8\" />\\n<meta name=\"viewport\" content=\"width=device-width, initial-scale=1.0\" />\\n<link href=\"https://plus.google.com/+detikcom\" rel=\"publisher\" />\\n <meta property=\"og:type\" content=\"article\" />\\n <meta property=\"og:site_name\" content=\"detiknews\" />\\n <meta property=\"og:title\" content=\"detikNews - Berita hari ini di Indonesia dan Internasional\" />\\n <meta property=\"og:image\" content=\"https://akcdn.detik.net.id/logo_tematik/logodetiknews.png\" />\\n <meta property=\"og:description\" content=\"Info berita terbaru hari ini baik peristiwa, kecelakaan, kriminal, hukum, berita unik, Politik, dan liputan khus'\n"
     ]
    }
   ],
   "source": [
    "import urllib\n",
    "\n",
    "r = urllib.request.urlopen('https://news.detik.com').read()\n",
    "print(type(r))\n",
    "print(r[1:1000])"
   ]
  },
  {
   "cell_type": "code",
   "execution_count": 14,
   "metadata": {},
   "outputs": [
    {
     "name": "stdout",
     "output_type": "stream",
     "text": [
      "<class 'bs4.BeautifulSoup'>\n",
      "!DOCTYPE html>\n",
      "<html>\n",
      " <head>\n",
      "  <title>\n",
      "   detikNews - Berita hari ini di Indonesia dan Internasional\n",
      "  </title>\n",
      "  <meta content=\"Info berita terbaru hari ini baik peristiwa, kecelakaan, kriminal, hukum, berita unik, Politik, dan liputan khusus di Indonesia dan Internasional\" itemprop=\"description\" name=\"description\"/>\n",
      "  <meta charset=\"utf-8\"/>\n",
      "  <meta content=\"text/html; charset=UTF-8\" http-equiv=\"X-UA-Compatible\"/>\n",
      "  <meta content=\"width=device-width, initial-scale=1.0\" name=\"viewport\"/>\n",
      "  <link href=\"https://plus.google.com/+detikcom\" rel=\"publisher\"/>\n",
      "  <meta content=\"article\" property=\"og:type\"/>\n",
      "  <meta content=\"detiknews\" property=\"og:site_name\"/>\n",
      "  <meta content=\"detikNews - Berita hari ini di Indonesia dan Internasional\" property=\"og:title\"/>\n",
      "  <meta content=\"https://akcdn.detik.net.id/logo_tematik/logodetiknews.png\" property=\"og:image\"/>\n",
      "  <meta content=\"Info berita terbaru hari ini baik peristiwa, kecelakaan, kriminal, hukum, berita unik, Politik, dan liputan khusus di Indo\n"
     ]
    }
   ],
   "source": [
    "from bs4 import BeautifulSoup \n",
    "\n",
    "soup = BeautifulSoup(r,\"lxml\")\n",
    "print(type(soup))\n",
    "print(soup.prettify()[1:1000])"
   ]
  },
  {
   "cell_type": "code",
   "execution_count": 15,
   "metadata": {},
   "outputs": [
    {
     "name": "stdout",
     "output_type": "stream",
     "text": [
      "369\n",
      ": https://news.detik.com/\n",
      ": https://www.detik.com\n",
      "Home: https://news.detik.com/\n",
      "Berita: https://news.detik.com/berita\n",
      "Daerah: https://news.detik.com/daerah\n",
      "Internasional: https://news.detik.com/internasional\n",
      "Fokus: https://news.detik.com/indeksfokus\n",
      "Kolom: https://news.detik.com/kolom\n",
      "Blak blakan: https://news.detik.com/blak-blakan\n",
      "Pro Kontra: https://news.detik.com/prokontra\n",
      "Infografis: https://news.detik.com/infografis\n",
      "Foto: https://news.detik.com/foto\n",
      "Video: https://news.detik.com/video\n",
      "Indeks: https://news.detik.com/indeks\n",
      "Adsmartnew: //adsmart.detik.com/?utm_source=detiknews&utm_medium=desktop\n",
      "Most Popular: //news.detik.com/mostpopular\n",
      "Hoax or Not: //hoaxornot.detik.com/\n",
      "Suara Pembaca: https://news.detik.com/suara-pembaca\n",
      "detikPemilu New: https://www.detik.com/pemilu\n",
      ": #\n",
      ": #\n",
      "Breaking News: Lion Air Hilang Kontak di Atas Karawang: https://news.detik.com/read/2018/10/29/091117/4277502/10/breaking-news-lion-air-hilang-kontak-di-atas-karawang\n",
      "Lion Air Jakarta-Pangkal Pinang Hilang Kontak: https://news.detik.com/read/2018/10/29/085614/4277486/10/lion-air-jakarta-pangkal-pinang-hilang-kontak\n",
      "Ragam Ekspresi Gustika Hatta, Cucu sang Proklamator: https://news.detik.com/readfoto/2018/10/28/203838/4277115/157/1/ragam-ekspresi-gustika-hatta-cucu-sang-proklamator\n",
      "Jokowi Tampilkan Artwork Sumpah Pemuda di IG, Prabowo Tulis Pesan: https://news.detik.com/read/2018/10/28/193141/4277006/10/jokowi-tampilkan-artwork-sumpah-pemuda-di-ig-prabowo-tulis-pesan\n",
      "Bos Leicester City Vichai Srivaddhanaprabha Ada di Helikopter Jatuh: https://news.detik.com/read/2018/10/28/183534/4276976/1148/bos-leicester-city-vichai-srivaddhanaprabha-ada-di-helikopter-jatuh\n",
      "James Riady Bakal Dicecar KPK sebagai Saksi untuk 9 Tersangka: https://news.detik.com/read/2018/10/28/155008/4276756/10/james-riady-bakal-dicecar-kpk-sebagai-saksi-untuk-9-tersangka\n",
      "Gustika Hatta: Itu Bukan Mencaci, Tapi Ngedumel Sendiri: https://news.detik.com/read/2018/10/28/135827/4276657/10/gustika-hatta-itu-bukan-mencaci-tapi-ngedumel-sendiri\n",
      "Ini Surat Pengkritik Volume Azan ke Ketua MA Minta Dibebaskan: https://news.detik.com/read/2018/10/28/111122/4276453/10/ini-surat-pengkritik-volume-azan-ke-ketua-ma-minta-dibebaskan\n",
      "Suasana Mencekam Sinagog di Pittsburgh Usai Penembakan Brutal: https://news.detik.com/readfoto/2018/10/28/094827/4276397/157/1/suasana-mencekam-sinagog-di-pittsburgh-usai-penembakan-brutal\n",
      "Kisah Menegangkan Penerbang Hercules Pertama Landing Pasca Gempa Palu: https://news.detik.com/read/2018/10/28/071825/4276351/10/kisah-menegangkan-penerbang-hercules-pertama-landing-pasca-gempa-palu\n",
      "Ini Rute Terakhir Lion Air JT 610 yang Terlacak Sebelum Jatuh: https://news.detik.com/berita/d-4277555/ini-rute-terakhir-lion-air-jt-610-yang-terlacak-sebelum-jatuh\n",
      ": https://news.detik.com/berita/d-4277555/ini-rute-terakhir-lion-air-jt-610-yang-terlacak-sebelum-jatuh\n",
      "Pesawat Lion Air JT 610 rute Jakarta-Pangkalpinang dipastikan jatuh. Ini titik terakhir pesawat tersebut terlacak.: https://news.detik.com/berita/d-4277555/ini-rute-terakhir-lion-air-jt-610-yang-terlacak-sebelum-jatuh\n",
      "Pesawat Lion Air Jatuh di Laut, Sudah Ditemukan: https://news.detik.com/berita/d-4277541/pesawat-lion-air-jatuh-di-laut-sudah-ditemukan\n",
      "Breaking News: Basarnas Pastikan Pesawat Lion Air JT 610 Jatuh: https://news.detik.com/berita/d-4277520/breaking-news-basarnas-pastikan-pesawat-lion-air-jt-610-jatuh\n",
      "+: https://news.detik.com/indeksfokus/\n",
      "01\n",
      "\n",
      "Lion Air Jatuh: https://news.detik.com/indeksfokus/4206/lion-air-jatuh/berita\n",
      "02\n",
      "\n",
      "Gempa Donggala-Tsunami Palu: https://news.detik.com/indeksfokus/4109/gempa-donggala-tsunami-palu/berita\n",
      "03\n",
      "\n",
      "Wartawan Saudi Hilang Misterius: https://news.detik.com/indeksfokus/4165/wartawan-saudi-hilang-misterius/berita\n",
      "04\n",
      "\n",
      "Dana Kelurahan & Sontoloyo: https://news.detik.com/indeksfokus/4182/dana-kelurahan-sontoloyo/berita\n",
      "05\n",
      "\n",
      "PKS 'Rontok': https://news.detik.com/indeksfokus/4192/pks-rontok/berita\n",
      "06\n",
      "\n",
      "Teror Paket Bom di AS: https://news.detik.com/indeksfokus/4191/teror-paket-bom-di-as/berita\n",
      "07\n",
      "\n",
      "OTT Bupati Cirebon: https://news.detik.com/indeksfokus/4190/ott-bupati-cirebon/berita\n",
      "08\n",
      "\n",
      "4 Tahun Jokowi-JK: https://news.detik.com/indeksfokus/4171/4-tahun-jokowi-jk/berita\n",
      "09\n",
      "\n",
      "Kasus Hoax Ratna Sarumpaet: https://news.detik.com/indeksfokus/4115/kasus-hoax-ratna-sarumpaet/berita\n",
      "10\n",
      "\n",
      "Peluru Nyasar di DPR: https://news.detik.com/indeksfokus/4151/peluru-nyasar-di-dpr/berita\n",
      "+: https://news.detik.com/prokontra\n",
      "Kamu Setuju Nggak Gedung DPR Pakai Kaca Antipeluru?\n",
      "Rabu 17 Oktober 2018, 10:23 WIB\n",
      "\n",
      "\n",
      " \n",
      "\n",
      "\n",
      "Insiden peluru nyasar ke ruang kerja dua anggota DPR memunculkan usulan agar gedung Wakil Rakyat itu dipasangi kaca antipeluru. Pembaca detikcom setuju?: https://news.detik.com/prokontra/d-4260261/kamu-setuju-nggak-gedung-dpr-pakai-kaca-antipeluru\n",
      "+: https://news.detik.com/infografis\n",
      "Mengenal Lebih Dekat Gustika Hatta yang Kritik Jokowi dan Sandi: https://news.detik.com/infografis/d-4276879/mengenal-lebih-dekat-gustika-hatta-yang-kritik-jokowi-dan-sandi\n",
      "+: http://forum.detik.com\n",
      "Akhir Pekan di Akhir Bulan, Refreshing ke Ubud Yuk! Jumat, 26/10/2018 14:05 430337\n",
      "Posted By : nurfitriaprilia: http://forum.detik.com/akhir-pekan-di-akhir-bulan-refreshing-ke-ubud-yuk-t1828767.html\n",
      "Jelang `Hari Sumpah Pemuda` Sederet Selebriti Sajikan ini, Nasionalis Banget! Jumat, 26/10/2018 15:14 430385\n",
      "Posted By : nika.crown: http://forum.detik.com/jelang-hari-sumpah-pemuda-sederet-selebriti-sajikan-ini-nasionalis-banget-t1828892.html\n",
      "+: https://news.detik.com/kolom\n",
      "iPanduan: https://www.detik.com/dapur/panduan-kolumnis\n",
      "Kirim Tulisan: https://news.detik.com/kolom/kirim\n",
      "Frank Gehry dan Museum Guggenheim Bilbao Penulis : Ishadi SK: https://news.detik.com/kolom/d-4277134/frank-gehry-dan-museum-guggenheim-bilbao\n",
      "Manusia Unggul Indonesia: Bukan Jargon Penulis : Tita Adelia: https://news.detik.com/kolom/d-4276441/manusia-unggul-indonesia-bukan-jargon\n",
      "Memaknai 90 Tahun Sumpah Pemuda Penulis : Andhika J.J. Tambunan: https://news.detik.com/kolom/d-4276428/memaknai-90-tahun-sumpah-pemuda\n",
      "90 Tahun Dongeng Keindonesiaan Penulis : Okky Madasari: https://news.detik.com/kolom/d-4274454/90-tahun-dongeng-keindonesiaan\n",
      ": http://www.bbc.com/indonesia\n",
      "Penembakan Sinagoge Pittsburgh: Korban Termasuk Suami-Istri dan Nenek: https://news.detik.com/bbc-world/d-4277521/penembakan-sinagoge-pittsburgh-korban-termasuk-suami-istri-dan-nenek\n",
      "Penembakan Sinagoge Pittsburgh, Trump Serukan Hukuman Mati: https://news.detik.com/bbc-world/d-4277043/penembakan-sinagoge-pittsburgh-trump-serukan-hukuman-mati\n",
      "Bersenjatakan Pisau, Seorang Perempuan Serang Taman Kanak-kanak: https://news.detik.com/bbc-world/d-4276426/bersenjatakan-pisau-seorang-perempuan-serang-taman-kanak-kanak\n"
     ]
    },
    {
     "ename": "KeyError",
     "evalue": "'href'",
     "output_type": "error",
     "traceback": [
      "\u001b[1;31m---------------------------------------------------------------------------\u001b[0m",
      "\u001b[1;31mKeyError\u001b[0m                                  Traceback (most recent call last)",
      "\u001b[1;32m<ipython-input-15-a83e90d03cc3>\u001b[0m in \u001b[0;36m<module>\u001b[1;34m()\u001b[0m\n\u001b[0;32m      3\u001b[0m \u001b[1;33m\u001b[0m\u001b[0m\n\u001b[0;32m      4\u001b[0m \u001b[1;32mfor\u001b[0m \u001b[0mlink\u001b[0m \u001b[1;32min\u001b[0m \u001b[0mlinks\u001b[0m\u001b[1;33m:\u001b[0m\u001b[1;33m\u001b[0m\u001b[0m\n\u001b[1;32m----> 5\u001b[1;33m     \u001b[0mprint\u001b[0m\u001b[1;33m(\u001b[0m\u001b[1;34m'%s: %s'\u001b[0m\u001b[1;33m%\u001b[0m\u001b[1;33m(\u001b[0m\u001b[0mlink\u001b[0m\u001b[1;33m.\u001b[0m\u001b[0mtext\u001b[0m\u001b[1;33m.\u001b[0m\u001b[0mstrip\u001b[0m\u001b[1;33m(\u001b[0m\u001b[1;33m)\u001b[0m\u001b[1;33m,\u001b[0m\u001b[0mlink\u001b[0m\u001b[1;33m[\u001b[0m\u001b[1;34m\"href\"\u001b[0m\u001b[1;33m]\u001b[0m\u001b[1;33m)\u001b[0m\u001b[1;33m)\u001b[0m\u001b[1;33m\u001b[0m\u001b[0m\n\u001b[0m",
      "\u001b[1;32m~\\Anaconda3\\lib\\site-packages\\bs4\\element.py\u001b[0m in \u001b[0;36m__getitem__\u001b[1;34m(self, key)\u001b[0m\n\u001b[0;32m   1069\u001b[0m         \"\"\"tag[key] returns the value of the 'key' attribute for the tag,\n\u001b[0;32m   1070\u001b[0m         and throws an exception if it's not there.\"\"\"\n\u001b[1;32m-> 1071\u001b[1;33m         \u001b[1;32mreturn\u001b[0m \u001b[0mself\u001b[0m\u001b[1;33m.\u001b[0m\u001b[0mattrs\u001b[0m\u001b[1;33m[\u001b[0m\u001b[0mkey\u001b[0m\u001b[1;33m]\u001b[0m\u001b[1;33m\u001b[0m\u001b[0m\n\u001b[0m\u001b[0;32m   1072\u001b[0m \u001b[1;33m\u001b[0m\u001b[0m\n\u001b[0;32m   1073\u001b[0m     \u001b[1;32mdef\u001b[0m \u001b[0m__iter__\u001b[0m\u001b[1;33m(\u001b[0m\u001b[0mself\u001b[0m\u001b[1;33m)\u001b[0m\u001b[1;33m:\u001b[0m\u001b[1;33m\u001b[0m\u001b[0m\n",
      "\u001b[1;31mKeyError\u001b[0m: 'href'"
     ]
    }
   ],
   "source": [
    "links = soup.find_all('a')\n",
    "print(len(links))\n",
    "\n",
    "for link in links:\n",
    "    print('%s: %s'%(link.text.strip(),link[\"href\"]))"
   ]
  },
  {
   "cell_type": "code",
   "execution_count": 16,
   "metadata": {},
   "outputs": [
    {
     "name": "stdout",
     "output_type": "stream",
     "text": [
      "12\n",
      "Breaking News: Lion Air Hilang Kontak di Atas Karawang: https://news.detik.com/read/2018/10/29/091117/4277502/10/breaking-news-lion-air-hilang-kontak-di-atas-karawang\n",
      "Lion Air Jakarta-Pangkal Pinang Hilang Kontak: https://news.detik.com/read/2018/10/29/085614/4277486/10/lion-air-jakarta-pangkal-pinang-hilang-kontak\n",
      "Jokowi Tampilkan Artwork Sumpah Pemuda di IG, Prabowo Tulis Pesan: https://news.detik.com/read/2018/10/28/193141/4277006/10/jokowi-tampilkan-artwork-sumpah-pemuda-di-ig-prabowo-tulis-pesan\n",
      "Bos Leicester City Vichai Srivaddhanaprabha Ada di Helikopter Jatuh: https://news.detik.com/read/2018/10/28/183534/4276976/1148/bos-leicester-city-vichai-srivaddhanaprabha-ada-di-helikopter-jatuh\n",
      "James Riady Bakal Dicecar KPK sebagai Saksi untuk 9 Tersangka: https://news.detik.com/read/2018/10/28/155008/4276756/10/james-riady-bakal-dicecar-kpk-sebagai-saksi-untuk-9-tersangka\n",
      "Gustika Hatta: Itu Bukan Mencaci, Tapi Ngedumel Sendiri: https://news.detik.com/read/2018/10/28/135827/4276657/10/gustika-hatta-itu-bukan-mencaci-tapi-ngedumel-sendiri\n",
      "Ini Surat Pengkritik Volume Azan ke Ketua MA Minta Dibebaskan: https://news.detik.com/read/2018/10/28/111122/4276453/10/ini-surat-pengkritik-volume-azan-ke-ketua-ma-minta-dibebaskan\n",
      "Kisah Menegangkan Penerbang Hercules Pertama Landing Pasca Gempa Palu: https://news.detik.com/read/2018/10/28/071825/4276351/10/kisah-menegangkan-penerbang-hercules-pertama-landing-pasca-gempa-palu\n",
      "444 Komentar\n",
      "\n",
      "\n",
      "Fadli Zon Usul Jokowi Gratiskan Jagorawi: Itu Baru Bukan Pencitraan: https://news.detik.com/read/2018/10/28/153706/4276741/10/fadli-zon-usul-jokowi-gratiskan-jagorawi-itu-baru-bukan-pencitraan\n",
      "443 Komentar\n",
      "\n",
      "\n",
      "Diprotes Keras Cucu Bung Hatta, Ini Respons Dahnil: https://news.detik.com/read/2018/10/25/161832/4272899/10/diprotes-keras-cucu-bung-hatta-ini-respons-dahnil\n",
      "444 Komentar\n",
      "\n",
      "\n",
      "Fadli Zon Usul Jokowi Gratiskan Jagorawi: Itu Baru Bukan Pencitraan: https://news.detik.com/read/2018/10/28/153706/4276741/10/fadli-zon-usul-jokowi-gratiskan-jagorawi-itu-baru-bukan-pencitraan\n",
      "443 Komentar\n",
      "\n",
      "\n",
      "Diprotes Keras Cucu Bung Hatta, Ini Respons Dahnil: https://news.detik.com/read/2018/10/25/161832/4272899/10/diprotes-keras-cucu-bung-hatta-ini-respons-dahnil\n"
     ]
    }
   ],
   "source": [
    "berita_link = [link for link in links if '/read/' in str(link) and 'javascript:void(0)' not in str(link) \n",
    "               and '#' not in str(link)]\n",
    "print(len(berita_link))\n",
    "for link in berita_link:\n",
    "    print('%s: %s'%(link.text.strip(),link[\"href\"]))"
   ]
  },
  {
   "cell_type": "code",
   "execution_count": 17,
   "metadata": {},
   "outputs": [
    {
     "name": "stdout",
     "output_type": "stream",
     "text": [
      "Diprotes Keras Cucu Bung Hatta, Ini Respons Dahnil\n",
      "Kamis 25 Oktober 2018, 16:22 WIB\n",
      "16:22 WIB\n",
      "Jakarta -\n",
      " Koordinator jubir Prabowo-Sandi, Dahnil Ahzar Simanjuntak, mendapat kritik keras dari Gustika Jusuf Hatta, cucu Mohammad Hatta, lantaran tak terima kakeknya disamakan dengan cawapres Sandiaga Uno. Dahnil mengaku gembira dikritik Gustika. Mengapa?\"Saya biasa aja, gembira sekali Gustika menyampaikan itu. Kalau saya kan hanya anak dari orang biasa. Tentu kami cari teladan yang orang hebat. Kalau saya anak petani, bukan orang terkenal. Kalau Gustika kan berasal dari keluarga yang punya kontribusi besar terhadap negara ini,\" kata Dahnil saat dihubungi, Kamis (25/10/2018).Baca juga: Sindir Dahnil, PDIP Singgung Cut Nyak Dien Disamakan Ratna SarumpaetIa kemudian menjelaskan maksud pernyataan dirinya yang menyamakan Hatta dengan Sandiaga. Dahnil mengatakan Sandi ingin meneladani kepemimpinan Hatta. \"Yang jelas, Bang Sandi sejak awal ingin meneladani kepemimpinan Bung Hatta. Setiap kepemimpinan hari ini kan pasti berusaha mencari keteladanan dari kepemimpinan sebelumnya. Nah salah satu kepemimpinan yang bisa kita teladani adalah Bung Karno, Jenderal Soedirman, kemudian Bung Hatta,\" jelasnya.Sandiaga, sebut Dahnil, mengagumi pemikiran ekonomi Hatta. Ia menepis anggapan Hatta sengaja diseret-seret hanya demi kepentingan politik. \"Kalau kemudian kita berusaha meneladani ada yang marah ya kita mau bilang apa? Silakan saja. Tapi yang jelas kita akan terus belajar tentang Bung Hatta dan menerapkan semangat-semangat Bung Hatta. Menurut saya adalah watak yang baik ketika kita ingin meneladani kepemimpinan sebelumnya,\" ucap Dahnil.Protes cucu Bung Hatta berawal dari satu video. Di video itu, Dahnil memperkenalkan satu per satu anak muda yang jadi jubir Prabowo-Sandi tersebut. Kemudian, dia bertanya alasan mereka yakin Prabowo-Sandi jadi presiden dan wakil presiden.Baca juga: Gerindra Bela Dahnil yang Samakan Sandiaga Uno dengan Bung HattaTerakhir, giliran Dahnil yang menjawab pertanyaan itu. Dia membandingkan Prabowo dengan Sukarno dan Jenderal Soedirman serta Sandiaga dengan Mohammad Hatta. \"Kalau bagi saya nih mereka seperti, apa seperti, bagian baru dari model Bung Karno dan Bung Hatta. Pak Prabowo itu seperti kombinasi Bung Karno dan Jenderal Soedirman, sedangkan Bang Sandi itu adalah bagian baru dari Bung Hatta,\" kata Dahnil. \"Itulah kenapa mereka berdua pantas jadi presiden dan wakil presiden,\" lanjutnya. Ucapan Dahnil itu direspons Gustika Jusuf-Hatta, cucu Mohammad Hatta. Lewat Twitter, Gustika keberatan ketika Sandiaga disamakan dengan Bung Hatta. Dihubungi lewat direct message, Gustika mengizinkan cuitannya dikutip. \"Untuk orang yg kesabarannya minus kyk gue gini denger kakek gue disamain sama sandiaga uno rasanya mau muntah. every. single. time. waktu pilpres. why. cant. you find. your own f*cking voice. hatta is hatta, you is you. i am a hatta, but i ain't bung hatta,\" tulis Gustika.Saksikan juga video 'Diperiksa Soal Kasus Ratna, Dahnil Dicecar 43 Pertanyaan':[Gambas:Video 20detik]\n",
      "(tsa/tor)\n",
      "\n",
      "\n",
      "prabowo sandiaga\n",
      "pilpres 2019\n",
      "cucu bung hatta\n",
      "gustika jusuf hatta\n",
      "\n",
      "\n",
      "\n",
      "\n",
      "<!--// <![CDATA[\n",
      " OA_show('newstag'); \n",
      " // ]]> -->\n",
      " \n",
      "\n",
      "<!--// <![CDATA[\n",
      "OA_show('hiddenquiz'); \n",
      "// ]]> -->\n"
     ]
    }
   ],
   "source": [
    "# html = urllib.request.urlopen(\"https://news.detik.com/berita/4272899/diprotes-keras-cucu-bung-hatta-ini-respons-dahnil\").read()\n",
    "# soup = BeautifulSoup(html, \"lxml\")\n",
    "\n",
    "# judul = soup.find(\"title\").text.strip()\n",
    "# print(judul)\n",
    "\n",
    "# tanggal = soup.find(\"div\",\"date\").text\n",
    "# print(tanggal.strip())\n",
    "# tanggal = tanggal.strip().split(',')[1].split('|')[0].strip()\n",
    "# print(tanggal)\n",
    "\n",
    "# isi_berita = soup.find(\"div\",\"detail_text\").text.strip()\n",
    "# print(isi_berita)\n",
    "\n",
    "\n"
   ]
  },
  {
   "cell_type": "code",
   "execution_count": null,
   "metadata": {},
   "outputs": [],
   "source": [
    "titles = []\n",
    "articles = []    \n",
    "for news_link in news_links:\n",
    "    if 'https://news.detik.com/berita' in news_link:\n",
    "        sub_url = news_link\n",
    "        sub_html = urllib.request.urlopen(sub_url).read()\n",
    "        sub_soup = bs(sub_html,'lxml')\n",
    "        \n",
    "        title = sub_soup.find_all('div', attrs={'class':'jdl'})[0].h1.text\n",
    "        article = sub_soup.find_all('div', attrs={'class':'detail_text'})[0].text\n",
    "        \n",
    "        titles.append(title)\n",
    "        articles.append(article)\n",
    "titles"
   ]
  },
  {
   "cell_type": "code",
   "execution_count": 18,
   "metadata": {},
   "outputs": [],
   "source": [
    "def getBerita(link):\n",
    "    html = urllib.reques.urlopen(link).read()\n",
    "    soup = BeautifulSoup(html, \"lxml\")\n",
    "\n",
    "    judul = soup.find(\"title\").text.strip().encode(utf-8)\n",
    "    tanggal = soup.find(\"div\",\"date\").text\n",
    "    tanggal = tanggal.strip().split(',')[1].split('|')[0].strip()\n",
    "    isi_berita = soup.find(\"div\",\"detail_text\").text.strip().encode(utf-8)\n",
    "    #gambar = soup.find(\"div\",\"kcm-read-top\").find(\"img\")\n",
    "    \n",
    "#     r = urllib.urlopen(gambar[\"src\"]).read()\n",
    "#     i = Image.open(StringIO(r))\n",
    "    \n",
    "    exclude = set(string.punctuation)\n",
    "    judul = ''.join(ch for ch in judul if ch not in exclude)\n",
    "    \n",
    "#     nama_file = \"images/\" + judul + \".jpg\"\n",
    "#     i.save(nama_file,'JPEG')\n",
    "    \n",
    "    return [judul,isi_berita,tanggal]"
   ]
  },
  {
   "cell_type": "code",
   "execution_count": 19,
   "metadata": {},
   "outputs": [
    {
     "name": "stdout",
     "output_type": "stream",
     "text": [
      "Breaking News: Lion Air Hilang Kontak di Atas Karawang: https://news.detik.com/read/2018/10/29/091117/4277502/10/breaking-news-lion-air-hilang-kontak-di-atas-karawang\n",
      "Lion Air Jakarta-Pangkal Pinang Hilang Kontak: https://news.detik.com/read/2018/10/29/085614/4277486/10/lion-air-jakarta-pangkal-pinang-hilang-kontak\n",
      "Jokowi Tampilkan Artwork Sumpah Pemuda di IG, Prabowo Tulis Pesan: https://news.detik.com/read/2018/10/28/193141/4277006/10/jokowi-tampilkan-artwork-sumpah-pemuda-di-ig-prabowo-tulis-pesan\n",
      "Bos Leicester City Vichai Srivaddhanaprabha Ada di Helikopter Jatuh: https://news.detik.com/read/2018/10/28/183534/4276976/1148/bos-leicester-city-vichai-srivaddhanaprabha-ada-di-helikopter-jatuh\n",
      "James Riady Bakal Dicecar KPK sebagai Saksi untuk 9 Tersangka: https://news.detik.com/read/2018/10/28/155008/4276756/10/james-riady-bakal-dicecar-kpk-sebagai-saksi-untuk-9-tersangka\n",
      "Gustika Hatta: Itu Bukan Mencaci, Tapi Ngedumel Sendiri: https://news.detik.com/read/2018/10/28/135827/4276657/10/gustika-hatta-itu-bukan-mencaci-tapi-ngedumel-sendiri\n",
      "Ini Surat Pengkritik Volume Azan ke Ketua MA Minta Dibebaskan: https://news.detik.com/read/2018/10/28/111122/4276453/10/ini-surat-pengkritik-volume-azan-ke-ketua-ma-minta-dibebaskan\n",
      "Kisah Menegangkan Penerbang Hercules Pertama Landing Pasca Gempa Palu: https://news.detik.com/read/2018/10/28/071825/4276351/10/kisah-menegangkan-penerbang-hercules-pertama-landing-pasca-gempa-palu\n",
      "444 Komentar\n",
      "\n",
      "\n",
      "Fadli Zon Usul Jokowi Gratiskan Jagorawi: Itu Baru Bukan Pencitraan: https://news.detik.com/read/2018/10/28/153706/4276741/10/fadli-zon-usul-jokowi-gratiskan-jagorawi-itu-baru-bukan-pencitraan\n",
      "443 Komentar\n",
      "\n",
      "\n",
      "Diprotes Keras Cucu Bung Hatta, Ini Respons Dahnil: https://news.detik.com/read/2018/10/25/161832/4272899/10/diprotes-keras-cucu-bung-hatta-ini-respons-dahnil\n",
      "444 Komentar\n",
      "\n",
      "\n",
      "Fadli Zon Usul Jokowi Gratiskan Jagorawi: Itu Baru Bukan Pencitraan: https://news.detik.com/read/2018/10/28/153706/4276741/10/fadli-zon-usul-jokowi-gratiskan-jagorawi-itu-baru-bukan-pencitraan\n",
      "443 Komentar\n",
      "\n",
      "\n",
      "Diprotes Keras Cucu Bung Hatta, Ini Respons Dahnil: https://news.detik.com/read/2018/10/25/161832/4272899/10/diprotes-keras-cucu-bung-hatta-ini-respons-dahnil\n"
     ]
    }
   ],
   "source": [
    "berita = []\n",
    "for link in berita_link:\n",
    "    print('%s: %s'%(link.text.strip(),link[\"href\"]))\n",
    "    try:\n",
    "        berita.append(getBerita(link[\"href\"]))\n",
    "    except:\n",
    "        pass"
   ]
  },
  {
   "cell_type": "code",
   "execution_count": null,
   "metadata": {},
   "outputs": [],
   "source": [
    "import pandas as pd\n",
    "table = pd.DataFrame(columns = ['title','article'])\n",
    "\n",
    "table['title'] = titles\n",
    "table['article'] = articles\n",
    "\n",
    "table.head(16)"
   ]
  },
  {
   "cell_type": "code",
   "execution_count": null,
   "metadata": {},
   "outputs": [],
   "source": []
  }
 ],
 "metadata": {
  "kernelspec": {
   "display_name": "Python 3",
   "language": "python",
   "name": "python3"
  },
  "language_info": {
   "codemirror_mode": {
    "name": "ipython",
    "version": 3
   },
   "file_extension": ".py",
   "mimetype": "text/x-python",
   "name": "python",
   "nbconvert_exporter": "python",
   "pygments_lexer": "ipython3",
   "version": "3.7.0"
  }
 },
 "nbformat": 4,
 "nbformat_minor": 2
}
