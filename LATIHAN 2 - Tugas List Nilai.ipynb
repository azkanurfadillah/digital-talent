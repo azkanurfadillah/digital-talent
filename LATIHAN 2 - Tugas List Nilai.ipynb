{
 "cells": [
  {
   "cell_type": "code",
   "execution_count": 2,
   "metadata": {},
   "outputs": [
    {
     "name": "stdout",
     "output_type": "stream",
     "text": [
      "[92, 73, 70, 40, 57, 21, 84, 71, 92, 87, 49, 21, 85, 20, 31, 21, 2, 12, 59, 60, 63, 34, 55, 79, 51, 57, 17, 46, 6, 13, 22, 15, 8, 14, 27, 23, 11, 78, 26, 6, 24, 75, 92, 18, 77, 73, 42, 5, 90, 30, 50, 16, 81, 66, 7, 65, 83, 12, 81, 81, 68, 28, 67, 64, 30, 84, 86, 38, 45, 39, 50, 26, 95, 18, 93, 30, 60, 57, 42, 48, 40, 40, 52, 68, 47, 39, 82, 55, 18, 53, 26, 43, 82, 92, 54, 84, 99, 95, 94, 28, 5, 5, 5, 86, 6, 87, 93, 86, 31, 81, 66, 60, 13, 55, 12, 81, 3, 18, 80, 75, 91, 85, 34, 97, 51, 80, 72, 29, 87, 23, 60, 77, 50, 7, 68, 29, 82, 84, 77, 7, 53, 80, 44, 79, 16, 21, 10, 16, 48, 44, 85, 4, 47, 3, 22, 38, 71, 49, 17, 27, 89, 18, 51, 5, 57, 4, 46, 88, 47, 44, 21, 45, 72, 40, 22, 66, 85, 12, 60, 5, 18, 7, 54, 54, 1, 77, 48, 50, 51, 23, 50, 57, 87, 62, 33, 70, 32, 3, 75, 81, 69, 85, 58, 61, 41, 53, 37, 50, 30, 81, 36, 43, 58, 80, 58, 42, 61, 72, 13, 3, 91, 16, 10, 11, 19, 3, 32, 74, 13, 74, 4, 35, 78, 70, 33, 73, 53, 95, 45, 95, 1, 87, 98, 4, 31, 56, 77, 95, 57, 47]\n"
     ]
    }
   ],
   "source": [
    "import random\n",
    "\n",
    "nilaitugas = []\n",
    "for i in range(250):\n",
    "    nilaitugas.append(random.randrange(1,100,1))\n",
    "print (nilaitugas)\n"
   ]
  },
  {
   "cell_type": "code",
   "execution_count": 3,
   "metadata": {},
   "outputs": [
    {
     "name": "stdout",
     "output_type": "stream",
     "text": [
      "73,57,21,71,87,49,21,85,31,21,59,63,55,79,51,57,17,13,15,27,23,11,75,77,73,5,81,7,65,83,81,81,67,45,39,95,93,57,47,39,55,53,43,99,95,5,5,5,87,93,31,81,13,55,81,3,75,91,85,97,51,29,87,23,77,7,29,77,7,53,79,21,85,47,3,71,49,17,27,89,51,5,57,47,21,45,85,5,7,1,77,51,23,57,87,33,3,75,81,69,85,61,41,53,37,81,43,61,13,3,91,11,19,3,13,35,33,73,53,95,45,95,1,87,31,77,95,57,47,"
     ]
    }
   ],
   "source": [
    "#Nilai yang ganjil\n",
    "\n",
    "for i in nilaitugas:\n",
    "    if i%2==1:\n",
    "        print(i, end = ',')"
   ]
  },
  {
   "cell_type": "code",
   "execution_count": 4,
   "metadata": {},
   "outputs": [
    {
     "name": "stdout",
     "output_type": "stream",
     "text": [
      "92,73,84,71,92,87,85,79,78,75,92,77,73,90,81,83,81,81,84,86,95,93,82,82,92,84,99,95,94,86,87,93,86,81,81,80,75,91,85,97,80,72,87,77,82,84,77,80,79,85,71,89,88,72,85,77,87,75,81,85,81,80,72,91,74,74,78,73,95,95,87,98,77,95,"
     ]
    }
   ],
   "source": [
    "#nilai > 70\n",
    "\n",
    "for n in nilaitugas:\n",
    "    if n>70:\n",
    "        print(n, end = ',')"
   ]
  },
  {
   "cell_type": "code",
   "execution_count": 10,
   "metadata": {},
   "outputs": [
    {
     "name": "stdout",
     "output_type": "stream",
     "text": [
      "28.50018671114772\n"
     ]
    }
   ],
   "source": [
    "#Standar Devisiasi \n",
    "import statistics\n",
    "print(sta.stdev(nilaitugas))\n"
   ]
  },
  {
   "cell_type": "code",
   "execution_count": 11,
   "metadata": {},
   "outputs": [
    {
     "name": "stdout",
     "output_type": "stream",
     "text": [
      "47\n"
     ]
    }
   ],
   "source": [
    "#Maximum\n",
    "maks=0\n",
    "for n in nilaitugas:\n",
    "    if n > maks:\n",
    "        maks = n\n",
    "print(n)"
   ]
  },
  {
   "cell_type": "code",
   "execution_count": 12,
   "metadata": {},
   "outputs": [
    {
     "name": "stdout",
     "output_type": "stream",
     "text": [
      "1\n"
     ]
    }
   ],
   "source": [
    "#Minimum\n",
    "\n",
    "min=maks\n",
    "for n in nilaitugas:\n",
    "    if n < min:\n",
    "        min = n\n",
    "print(min)"
   ]
  },
  {
   "cell_type": "code",
   "execution_count": 9,
   "metadata": {},
   "outputs": [
    {
     "name": "stdout",
     "output_type": "stream",
     "text": [
      "81\n"
     ]
    }
   ],
   "source": [
    "#Modus\n",
    "import statistics as sta\n",
    "print(sta.mode(nilaitugas))"
   ]
  }
 ],
 "metadata": {
  "kernelspec": {
   "display_name": "Python 3",
   "language": "python",
   "name": "python3"
  },
  "language_info": {
   "codemirror_mode": {
    "name": "ipython",
    "version": 3
   },
   "file_extension": ".py",
   "mimetype": "text/x-python",
   "name": "python",
   "nbconvert_exporter": "python",
   "pygments_lexer": "ipython3",
   "version": "3.7.0"
  }
 },
 "nbformat": 4,
 "nbformat_minor": 2
}
