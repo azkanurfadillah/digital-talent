{
 "cells": [
  {
   "cell_type": "markdown",
   "metadata": {},
   "source": []
  },
  {
   "cell_type": "code",
   "execution_count": 4,
   "metadata": {},
   "outputs": [
    {
     "name": "stdout",
     "output_type": "stream",
     "text": [
      "0 = 0\n",
      "2 = 4\n",
      "4 = 16\n",
      "6 = 36\n",
      "8 = 64\n",
      "2 8\n",
      "6 24\n",
      "10 40\n",
      "14 56\n",
      "18 72\n"
     ]
    }
   ],
   "source": [
    "#SINTAKS FOR\n",
    "# range(start,end,step)\n",
    "for i in range(0,10,2):\n",
    "    print(i,\"=\",i**2)\n",
    "    \n",
    "for j in range(2,20,4) :\n",
    "    print(j,j*4)\n",
    "    "
   ]
  },
  {
   "cell_type": "code",
   "execution_count": 2,
   "metadata": {},
   "outputs": [
    {
     "name": "stdout",
     "output_type": "stream",
     "text": [
      "0\n",
      "1\n",
      "2\n",
      "3\n",
      "4\n",
      "5\n",
      "6\n",
      "7\n",
      "8\n",
      "9\n"
     ]
    }
   ],
   "source": [
    "#SINTAKS WHILE\n",
    "i = 0\n",
    "while i<10:\n",
    "    print(i)\n",
    "    i = i + 1\n",
    "    "
   ]
  },
  {
   "cell_type": "code",
   "execution_count": 20,
   "metadata": {},
   "outputs": [
    {
     "name": "stdout",
     "output_type": "stream",
     "text": [
      "30\n",
      "70\n",
      "80\n",
      "60\n",
      "[30, 40, 50, 60, 70, 80, 40, 10]\n",
      "[30, 40, 50, 60, 70, 80, 40, 10, 30, 20, 50, 90]\n",
      "[30, 40, 50, 60, 70, 80, 40, 10, 30, 20, 50]\n",
      "[50, 60, 70]\n",
      "[30, 40, 50, 60, 70, 80, 40, 10, 30]\n",
      "[60, 70, 80, 40, 10, 30, 20, 50]\n",
      "[30, 40, 50, 60, 70, 80, 40, 10, 30, 20, 50]\n"
     ]
    }
   ],
   "source": [
    "# Deklarasi List\n",
    "\n",
    "#Dapat Berisi Angka\n",
    "nilai=[30,40,50,60,70,80]\n",
    "\n",
    "\n",
    "print(nilai[0])\n",
    "print(nilai[4])\n",
    "print(nilai[-1])\n",
    "print(nilai[-3])\n",
    "\n",
    "nilai.append(40)\n",
    "nilai.append(10)\n",
    "print(nilai)\n",
    "\n",
    "nilai.extend([30,20,50,90])\n",
    "print(nilai)\n",
    "\n",
    "del nilai[-1]\n",
    "print(nilai)\n",
    "\n",
    "##slicing\n",
    "# memunculkan elemen ke 3 sampai ke 5\n",
    "print(nilai[2:5])\n",
    "\n",
    "# menghilangkan 2 elemen dari belakang\n",
    "print(nilai[:-2])\n",
    "\n",
    "# menghilangkan 3 elemen dari depan\n",
    "print(nilai[3:])\n",
    "\n",
    "# print semua niali\n",
    "print(nilai[:])"
   ]
  },
  {
   "cell_type": "code",
   "execution_count": 21,
   "metadata": {},
   "outputs": [
    {
     "name": "stdout",
     "output_type": "stream",
     "text": [
      "30\n",
      "40\n",
      "50\n",
      "60\n",
      "70\n",
      "80\n",
      "0 30\n",
      "1 40\n",
      "2 50\n",
      "3 60\n",
      "4 70\n",
      "5 80\n"
     ]
    }
   ],
   "source": [
    "#2.4 Perulangan dalam List\n",
    "\n",
    "nilai=[30,40,50,60,70,80]\n",
    "\n",
    "for n in nilai:\n",
    "    print(n)\n",
    "\n",
    "# Mengikutkan Indeksnya / indeksnya mau di print juga\n",
    "for i,n in enumerate(nilai):\n",
    "    print(i,n)"
   ]
  },
  {
   "cell_type": "code",
   "execution_count": 29,
   "metadata": {},
   "outputs": [
    {
     "name": "stdout",
     "output_type": "stream",
     "text": [
      "420\n",
      "420.0\n",
      "420.0\n",
      "60.0\n"
     ]
    }
   ],
   "source": [
    "nilai=[30,40,50,60,70,80,90]\n",
    "\n",
    "# ALGORITMA RATA-RATA\n",
    "total = 0\n",
    "for n in nilai:\n",
    "    total = total + n\n",
    "print(total)\n",
    "#ini gimana bisa jadi 420???\n",
    "\n",
    "total = 0\n",
    "for n in nilai:\n",
    "    total = total + float(n)\n",
    "print(total)\n",
    "\n",
    "total = 0.0\n",
    "for n in nilai:\n",
    "    total = total + n\n",
    "print(total)\n",
    "\n",
    "rata = total / len(nilai)\n",
    "print(rata)"
   ]
  },
  {
   "cell_type": "code",
   "execution_count": 30,
   "metadata": {},
   "outputs": [
    {
     "name": "stdout",
     "output_type": "stream",
     "text": [
      "90 ada dalam list\n"
     ]
    }
   ],
   "source": [
    "#melihat apakah nilai tersebut ada didalam list atau tidak\n",
    "nilai=[30,40,50,60,70,80,90]\n",
    "\n",
    "n = 90\n",
    "if n in nilai:\n",
    "    print(n, \"ada dalam list\")\n",
    "else:\n",
    "    print(n, \"tidak ada dalam list\")"
   ]
  },
  {
   "cell_type": "code",
   "execution_count": 36,
   "metadata": {},
   "outputs": [
    {
     "name": "stdout",
     "output_type": "stream",
     "text": [
      "66\n",
      "88\n",
      "54\n",
      "-\n",
      "77\n",
      "99\n",
      "55\n"
     ]
    }
   ],
   "source": [
    "# 2.5 LATIHAN\n",
    "#Tampilkan nilai dari list tugas yang genap\n",
    "\n",
    "tugas=[66,77,88,99,55,54]\n",
    "\n",
    "for n in tugas:\n",
    "    if n%2==0:\n",
    "        print(n)\n",
    "print('-')\n",
    "\n",
    "for n in tugas:\n",
    "    if n%2==1:\n",
    "        print(n)\n",
    "        "
   ]
  },
  {
   "cell_type": "markdown",
   "metadata": {},
   "source": [
    "# tuple"
   ]
  },
  {
   "cell_type": "code",
   "execution_count": 38,
   "metadata": {},
   "outputs": [
    {
     "name": "stdout",
     "output_type": "stream",
     "text": [
      "('Januari', 'Februari', 'Maret', 'April', 'Mei', 'Juni', 'Juli', 'Agustus', 'September', 'Oktober', 'November', 'Desember')\n",
      "-\n",
      "Januari\n",
      "Mei\n",
      "Desember\n",
      "Oktober\n"
     ]
    }
   ],
   "source": [
    "# Deklarasi Tuple\n",
    "bulan = (\"Januari\",\"Februari\",\"Maret\",\"April\",\"Mei\",\"Juni\",\"Juli\",\"Agustus\",\"September\",\"Oktober\",\"November\",\"Desember\")\n",
    "print(bulan)\n",
    "\n",
    "print(\"-\")\n",
    "\n",
    "#\n",
    "print(bulan[0])\n",
    "print(bulan[4])\n",
    "print(bulan[-1])\n",
    "print(bulan[-3])"
   ]
  },
  {
   "cell_type": "markdown",
   "metadata": {},
   "source": [
    "# 4. Dictionary"
   ]
  },
  {
   "cell_type": "code",
   "execution_count": 50,
   "metadata": {},
   "outputs": [
    {
     "name": "stdout",
     "output_type": "stream",
     "text": [
      "{'Nama': 'Budi', 'Umur': 7, 'JenisKelamin': 'Laki-Laki'}\n",
      "{'Nama': 'Ani', 'Umur': 8, 'JenisKelamin': 'Perempuan'}\n",
      "--\n",
      "Budi\n",
      "7\n",
      "Laki-Laki\n",
      "-\n",
      "Ani\n",
      "8\n",
      "Perempuan\n",
      "--\n",
      "[]\n",
      "[{'Nama': 'Budi', 'Umur': 7, 'JenisKelamin': 'Laki-Laki'}]\n",
      "[{'Nama': 'Budi', 'Umur': 7, 'JenisKelamin': 'Laki-Laki'}, {'Nama': 'Ani', 'Umur': 8, 'JenisKelamin': 'Perempuan'}]\n",
      "{'Nama': 'Budi', 'Umur': 7, 'JenisKelamin': 'Laki-Laki'}\n",
      "{'Nama': 'Ani', 'Umur': 8, 'JenisKelamin': 'Perempuan'}\n"
     ]
    }
   ],
   "source": [
    "siswa = {'Nama': 'Budi', 'Umur': 7, 'JenisKelamin': 'Laki-Laki'}\n",
    "siswa2 = {'Nama': 'Ani', 'Umur': 8, 'JenisKelamin': 'Perempuan'}\n",
    "\n",
    "print(siswa)\n",
    "print(siswa2)\n",
    "print('--')\n",
    "\n",
    "print(siswa['Nama'])\n",
    "print(siswa['Umur'])\n",
    "print(siswa['JenisKelamin'])\n",
    "print('-')\n",
    "print(siswa2['Nama'])\n",
    "print(siswa2['Umur'])\n",
    "print(siswa2['JenisKelamin'])\n",
    "print('--')\n",
    "\n",
    "list_siswa = []\n",
    "print(list_siswa)\n",
    "\n",
    "list_siswa = []\n",
    "list_siswa.append(siswa)\n",
    "print(list_siswa)\n",
    "\n",
    "list_siswa = []\n",
    "list_siswa.append(siswa)\n",
    "list_siswa.append(siswa2)\n",
    "print(list_siswa)\n",
    "\n",
    "list_siswa = []\n",
    "list_siswa.append(siswa)\n",
    "list_siswa.append(siswa2)\n",
    "print(list_siswa[0])\n",
    "print(list_siswa[1])"
   ]
  },
  {
   "cell_type": "code",
   "execution_count": 52,
   "metadata": {},
   "outputs": [
    {
     "name": "stdout",
     "output_type": "stream",
     "text": [
      "{'Nama': 'Deni', 'Umur': 7, 'JenisKelamin': 'Laki-Laki', 'Alamat': 'Jl. Kaliurang KM 5'}\n",
      "{'Nama': 'Deni', 'Umur': 7, 'JenisKelamin': 'Laki-Laki', 'Alamat': 'Jl. Kaliurang KM 5'}\n"
     ]
    }
   ],
   "source": [
    "#4.2 Mengubah nilai Dictionary\n",
    "siswa['Nama'] = 'Deni'\n",
    "print(siswa)\n",
    "siswa['Alamat'] = \"Jl. Kaliurang KM 5\"\n",
    "print(siswa)"
   ]
  },
  {
   "cell_type": "code",
   "execution_count": 54,
   "metadata": {},
   "outputs": [
    {
     "name": "stdout",
     "output_type": "stream",
     "text": [
      "{'Nama': 'Deni', 'Umur': 7, 'JenisKelamin': 'Laki-Laki', 'Alamat': 'Jl. Kaliurang KM 5', 'Nilai': [30, 40, 50, 60, 70, 80, 90]}\n"
     ]
    }
   ],
   "source": [
    "#4.3 Menambahkan Elemen\n",
    "siswa['Alamat'] = \"Jl. Kaliurang KM 5\"\n",
    "print(siswa)\n"
   ]
  },
  {
   "cell_type": "code",
   "execution_count": 55,
   "metadata": {},
   "outputs": [
    {
     "name": "stdout",
     "output_type": "stream",
     "text": [
      "{'Nama': 'Deni', 'Umur': 7, 'JenisKelamin': 'Laki-Laki', 'Alamat': 'Jl. Kaliurang KM 5', 'Nilai': [30, 40, 50, 60, 70, 80, 90]}\n",
      "30\n",
      "40\n",
      "50\n",
      "60\n",
      "70\n",
      "80\n",
      "90\n"
     ]
    }
   ],
   "source": [
    "# List sebagai nilai dari elemen Dictionary\n",
    "siswa[\"Nilai\"] = nilai\n",
    "print(siswa)\n",
    "\n",
    "for n in siswa[\"Nilai\"]:\n",
    "    print(n)"
   ]
  },
  {
   "cell_type": "code",
   "execution_count": 56,
   "metadata": {},
   "outputs": [
    {
     "name": "stdout",
     "output_type": "stream",
     "text": [
      "============\n",
      "Nama Deni\n",
      "Umur 7\n",
      "JenisKelamin Laki-Laki\n",
      "Alamat Jl. Kaliurang KM 5\n",
      "Nilai [30, 40, 50, 60, 70, 80, 90]\n",
      "============\n",
      "Nama Ani\n",
      "Umur 8\n",
      "JenisKelamin Perempuan\n"
     ]
    }
   ],
   "source": [
    "for l in list_siswa:\n",
    "    print(\"============\")\n",
    "    for k,v in l.items():\n",
    "        print(k,v)\n",
    "        "
   ]
  },
  {
   "cell_type": "code",
   "execution_count": 58,
   "metadata": {},
   "outputs": [
    {
     "name": "stdout",
     "output_type": "stream",
     "text": [
      "Tutori\n",
      "ograman Py\n",
      "Python\n"
     ]
    }
   ],
   "source": [
    "nama = \"Tutorial Bahasa Pemrograman Python\"\n",
    "print(nama[0:6])\n",
    "\n",
    "#dari indeks 20 ke 29\n",
    "print(nama[20:30])\n",
    "#dari 6 elemen kiri\n",
    "print(nama[-6:])"
   ]
  },
  {
   "cell_type": "code",
   "execution_count": 67,
   "metadata": {},
   "outputs": [
    {
     "name": "stdout",
     "output_type": "stream",
     "text": [
      "['Tutorial', 'Bahasa', 'Pemrograman', 'Python']\n",
      "Tutorial\n",
      "Pemrograman\n",
      "====\n",
      "['Pada hari minggu kuturut ayah ke kota', ' Naik Delman istimewa kududuk di muka', ' Duduk disamping pak kusir yang sedang bekerja']\n",
      " Duduk disamping pak kusir yang sedang bekerja\n",
      " Duduk disamping pak kusir yang sedang bekerja\n",
      "====\n",
      "['Pada', 'hari', 'minggu', 'kuturut', 'ayah', 'ke', 'kota']\n",
      "['Naik', 'Delman', 'istimewa', 'kududuk', 'di', 'muka']\n",
      "['Duduk', 'disamping', 'pak', 'kusir', 'yang', 'sedang', 'bekerja']\n"
     ]
    }
   ],
   "source": [
    "nama = \"Tutorial Bahasa Pemrograman Python\"\n",
    "kata = nama.split()\n",
    "print(kata)\n",
    "print(kata[0])\n",
    "print(kata[2])\n",
    "\n",
    "print('====')\n",
    "\n",
    "paragraf = \"Pada hari minggu kuturut ayah ke kota. Naik Delman istimewa kududuk di muka. Duduk disamping pak kusir yang sedang bekerja\"\n",
    "kalimat = paragraf.split(\".\")\n",
    "print(kalimat)\n",
    "print(kalimat[2])\n",
    "print(kalimat[-1])\n",
    "print('====')\n",
    "\n",
    "for k in kalimat:\n",
    "    print(k)\n",
    "    print(k.split())\n",
    "\n",
    "    "
   ]
  },
  {
   "cell_type": "code",
   "execution_count": 70,
   "metadata": {},
   "outputs": [
    {
     "name": "stdout",
     "output_type": "stream",
     "text": [
      "Found!\n"
     ]
    }
   ],
   "source": [
    "## 5.3 Pencarian kata dalam String\n",
    "\n",
    "nama = \"Tutorial Bahasa Pemrograman Python\"\n",
    "cari = 'Python'\n",
    "if cari in nama:\n",
    "    print(\"Found!\")\n",
    "else:\n",
    "    print(\"Not Found!\")\n"
   ]
  },
  {
   "cell_type": "code",
   "execution_count": 72,
   "metadata": {},
   "outputs": [
    {
     "name": "stdout",
     "output_type": "stream",
     "text": [
      "[65, 42, 82, 5, 41, 85, 46, 29, 67, 98, 1, 95, 87, 95, 21, 18, 69, 56, 40, 37, 57, 48, 24, 54, 87, 63, 16, 14, 53, 38, 83, 33, 24, 10, 74, 62, 98, 74, 51, 76, 83, 70, 55, 98, 18, 63, 67, 48, 16, 10, 76, 5, 20, 3, 23, 36, 88, 56, 59, 75, 96, 23, 70, 95, 66, 81, 52, 85, 82, 69, 53, 7, 28, 72, 14, 13, 81, 77, 80, 80, 80, 53, 40, 25, 33, 63, 17, 75, 55, 81, 22, 43, 37, 22, 95, 11, 36, 35, 80, 81, 34, 78, 25, 87, 60, 67, 92, 21, 85, 21, 91, 95, 90, 16, 77, 75, 83, 86, 58, 28, 5, 23, 53, 72, 57, 13, 33, 86, 43, 96, 93, 35, 85, 85, 52, 47, 50, 88, 42, 51, 85, 38, 97, 4, 54, 83, 82, 22, 65, 58, 80, 57, 14, 58, 78, 44, 31, 71, 69, 51, 45, 98, 88, 75, 56, 41, 18, 9, 10, 31, 79, 30, 80, 42, 22, 41, 10, 82, 44, 3, 93, 20, 6, 64, 73, 51, 61, 90, 68, 76, 34, 46, 76, 61, 20, 90, 9, 32, 84, 22, 45, 72, 45, 38, 14, 48, 51, 61, 46, 52, 30, 50, 29, 54, 74, 5, 27, 97, 90, 94, 79, 40, 51, 46, 61, 89, 59, 49, 14, 14, 75, 9, 70, 43, 53, 59, 83, 35, 14, 18, 21, 2, 49, 25, 46, 62, 81, 48, 54, 36]\n"
     ]
    }
   ],
   "source": [
    "import random\n",
    "\n",
    "nilaiTugas = []\n",
    "for i in range(250):\n",
    "    nilaiTugas.append(random.randrange(1,100,1))\n",
    "\n",
    "print(nilaiTugas)\n",
    "\n",
    "for n in nilaiTugas:\n",
    "    fi n%"
   ]
  },
  {
   "cell_type": "code",
   "execution_count": null,
   "metadata": {},
   "outputs": [],
   "source": []
  }
 ],
 "metadata": {
  "kernelspec": {
   "display_name": "Python 3",
   "language": "python",
   "name": "python3"
  },
  "language_info": {
   "codemirror_mode": {
    "name": "ipython",
    "version": 3
   },
   "file_extension": ".py",
   "mimetype": "text/x-python",
   "name": "python",
   "nbconvert_exporter": "python",
   "pygments_lexer": "ipython3",
   "version": "3.7.0"
  }
 },
 "nbformat": 4,
 "nbformat_minor": 2
}
