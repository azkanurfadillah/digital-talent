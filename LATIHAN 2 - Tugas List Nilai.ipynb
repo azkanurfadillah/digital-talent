{
 "cells": [
  {
   "cell_type": "code",
   "execution_count": 1,
   "metadata": {},
   "outputs": [
    {
     "name": "stdout",
     "output_type": "stream",
     "text": [
      "[83, 78, 14, 86, 20, 98, 9, 59, 50, 12, 65, 1, 97, 30, 13, 51, 42, 74, 99, 24, 31, 83, 19, 70, 88, 36, 15, 38, 74, 21, 2, 61, 22, 16, 29, 38, 74, 48, 96, 5, 65, 32, 67, 8, 95, 24, 69, 62, 1, 24, 74, 53, 19, 99, 50, 22, 42, 93, 57, 62, 96, 4, 19, 58, 44, 77, 42, 25, 57, 64, 78, 65, 52, 18, 48, 46, 77, 99, 71, 91, 86, 70, 49, 68, 16, 70, 1, 18, 94, 54, 80, 32, 15, 33, 73, 10, 65, 31, 36, 81, 91, 1, 20, 89, 49, 49, 41, 90, 64, 91, 52, 12, 70, 97, 58, 8, 2, 22, 15, 95, 76, 47, 67, 90, 69, 55, 90, 49, 57, 16, 2, 74, 15, 87, 89, 16, 41, 93, 87, 98, 99, 93, 28, 62, 29, 31, 18, 74, 55, 5, 81, 84, 70, 44, 48, 65, 8, 33, 29, 27, 39, 53, 90, 13, 90, 26, 50, 68, 62, 85, 19, 92, 59, 93, 83, 59, 62, 15, 71, 27, 37, 24, 26, 50, 71, 80, 1, 66, 97, 44, 88, 5, 62, 47, 97, 16, 37, 26, 83, 72, 66, 43, 68, 34, 27, 96, 15, 74, 77, 79, 39, 19, 4, 44, 99, 39, 29, 9, 64, 73, 13, 71, 67, 37, 8, 87, 60, 9, 24, 82, 11, 10, 86, 8, 33, 41, 99, 52, 35, 35, 34, 91, 27, 98, 5, 11, 40, 69, 98, 12]\n"
     ]
    }
   ],
   "source": [
    "import random\n",
    "\n",
    "nilaitugas = []\n",
    "for i in range(250):\n",
    "    nilaitugas.append(random.randrange(1,100,1))\n",
    "print (nilaitugas)\n"
   ]
  },
  {
   "cell_type": "code",
   "execution_count": 2,
   "metadata": {},
   "outputs": [
    {
     "name": "stdout",
     "output_type": "stream",
     "text": [
      "83\n",
      "9\n",
      "59\n",
      "65\n",
      "1\n",
      "97\n",
      "13\n",
      "51\n",
      "99\n",
      "31\n",
      "83\n",
      "19\n",
      "15\n",
      "21\n",
      "61\n",
      "29\n",
      "5\n",
      "65\n",
      "67\n",
      "95\n",
      "69\n",
      "1\n",
      "53\n",
      "19\n",
      "99\n",
      "93\n",
      "57\n",
      "19\n",
      "77\n",
      "25\n",
      "57\n",
      "65\n",
      "77\n",
      "99\n",
      "71\n",
      "91\n",
      "49\n",
      "1\n",
      "15\n",
      "33\n",
      "73\n",
      "65\n",
      "31\n",
      "81\n",
      "91\n",
      "1\n",
      "89\n",
      "49\n",
      "49\n",
      "41\n",
      "91\n",
      "97\n",
      "15\n",
      "95\n",
      "47\n",
      "67\n",
      "69\n",
      "55\n",
      "49\n",
      "57\n",
      "15\n",
      "87\n",
      "89\n",
      "41\n",
      "93\n",
      "87\n",
      "99\n",
      "93\n",
      "29\n",
      "31\n",
      "55\n",
      "5\n",
      "81\n",
      "65\n",
      "33\n",
      "29\n",
      "27\n",
      "39\n",
      "53\n",
      "13\n",
      "85\n",
      "19\n",
      "59\n",
      "93\n",
      "83\n",
      "59\n",
      "15\n",
      "71\n",
      "27\n",
      "37\n",
      "71\n",
      "1\n",
      "97\n",
      "5\n",
      "47\n",
      "97\n",
      "37\n",
      "83\n",
      "43\n",
      "27\n",
      "15\n",
      "77\n",
      "79\n",
      "39\n",
      "19\n",
      "99\n",
      "39\n",
      "29\n",
      "9\n",
      "73\n",
      "13\n",
      "71\n",
      "67\n",
      "37\n",
      "87\n",
      "9\n",
      "11\n",
      "33\n",
      "41\n",
      "99\n",
      "35\n",
      "35\n",
      "91\n",
      "27\n",
      "5\n",
      "11\n",
      "69\n"
     ]
    }
   ],
   "source": [
    "#Nilai yang ganjil\n",
    "\n",
    "for i in nilaitugas:\n",
    "    if i%2==1:\n",
    "        print(i)"
   ]
  },
  {
   "cell_type": "code",
   "execution_count": 3,
   "metadata": {},
   "outputs": [
    {
     "name": "stdout",
     "output_type": "stream",
     "text": [
      "83\n",
      "78\n",
      "86\n",
      "98\n",
      "97\n",
      "74\n",
      "99\n",
      "83\n",
      "88\n",
      "74\n",
      "74\n",
      "96\n",
      "95\n",
      "74\n",
      "99\n",
      "93\n",
      "96\n",
      "77\n",
      "78\n",
      "77\n",
      "99\n",
      "71\n",
      "91\n",
      "86\n",
      "94\n",
      "80\n",
      "73\n",
      "81\n",
      "91\n",
      "89\n",
      "90\n",
      "91\n",
      "97\n",
      "95\n",
      "76\n",
      "90\n",
      "90\n",
      "74\n",
      "87\n",
      "89\n",
      "93\n",
      "87\n",
      "98\n",
      "99\n",
      "93\n",
      "74\n",
      "81\n",
      "84\n",
      "90\n",
      "90\n",
      "85\n",
      "92\n",
      "93\n",
      "83\n",
      "71\n",
      "71\n",
      "80\n",
      "97\n",
      "88\n",
      "97\n",
      "83\n",
      "72\n",
      "96\n",
      "74\n",
      "77\n",
      "79\n",
      "99\n",
      "73\n",
      "71\n",
      "87\n",
      "82\n",
      "86\n",
      "99\n",
      "91\n",
      "98\n",
      "98\n"
     ]
    }
   ],
   "source": [
    "#nilai > 70\n",
    "\n",
    "for n in nilaitugas:\n",
    "    if n>70:\n",
    "        print(n)"
   ]
  },
  {
   "cell_type": "code",
   "execution_count": 10,
   "metadata": {},
   "outputs": [
    {
     "data": {
      "text/plain": [
       "<module 'statistics' from 'C:\\\\Users\\\\User\\\\Anaconda3\\\\lib\\\\statistics.py'>"
      ]
     },
     "execution_count": 10,
     "metadata": {},
     "output_type": "execute_result"
    }
   ],
   "source": [
    "#Standar Devisiasi \n",
    "import statistics\n",
    "statistics\n",
    "# variance(nilaitugas, stdev)\n",
    "# # stdev([nilaitugas])\n"
   ]
  },
  {
   "cell_type": "code",
   "execution_count": 19,
   "metadata": {},
   "outputs": [
    {
     "name": "stdout",
     "output_type": "stream",
     "text": [
      "58\n"
     ]
    }
   ],
   "source": [
    "#Maximum\n",
    "maks=0\n",
    "for n in nilaitugas:\n",
    "    if n > maks:\n",
    "        maks = n\n",
    "print(n)"
   ]
  },
  {
   "cell_type": "code",
   "execution_count": 21,
   "metadata": {},
   "outputs": [
    {
     "name": "stdout",
     "output_type": "stream",
     "text": [
      "1\n"
     ]
    }
   ],
   "source": [
    "#Minimum\n",
    "\n",
    "min=maks\n",
    "for n in nilaitugas:\n",
    "    if n < min:\n",
    "        min = n\n",
    "print(min)"
   ]
  },
  {
   "cell_type": "code",
   "execution_count": 25,
   "metadata": {},
   "outputs": [
    {
     "name": "stdout",
     "output_type": "stream",
     "text": [
      "[]\n"
     ]
    },
    {
     "ename": "NameError",
     "evalue": "name 'statistics' is not defined",
     "output_type": "error",
     "traceback": [
      "\u001b[1;31m---------------------------------------------------------------------------\u001b[0m",
      "\u001b[1;31mNameError\u001b[0m                                 Traceback (most recent call last)",
      "\u001b[1;32m<ipython-input-25-9e39d857261e>\u001b[0m in \u001b[0;36m<module>\u001b[1;34m()\u001b[0m\n\u001b[0;32m      1\u001b[0m \u001b[1;31m#Modus\u001b[0m\u001b[1;33m\u001b[0m\u001b[1;33m\u001b[0m\u001b[0m\n\u001b[0;32m      2\u001b[0m \u001b[0mprint\u001b[0m\u001b[1;33m(\u001b[0m\u001b[0mnilaitugas\u001b[0m\u001b[1;33m)\u001b[0m\u001b[1;33m\u001b[0m\u001b[0m\n\u001b[1;32m----> 3\u001b[1;33m \u001b[0mstatistics\u001b[0m\u001b[1;33m.\u001b[0m\u001b[0mmode\u001b[0m\u001b[1;33m(\u001b[0m\u001b[0mnilaitugas\u001b[0m\u001b[1;33m)\u001b[0m\u001b[1;33m\u001b[0m\u001b[0m\n\u001b[0m",
      "\u001b[1;31mNameError\u001b[0m: name 'statistics' is not defined"
     ]
    }
   ],
   "source": [
    "#Modus\n"
   ]
  },
  {
   "cell_type": "code",
   "execution_count": null,
   "metadata": {},
   "outputs": [],
   "source": []
  }
 ],
 "metadata": {
  "kernelspec": {
   "display_name": "Python 3",
   "language": "python",
   "name": "python3"
  },
  "language_info": {
   "codemirror_mode": {
    "name": "ipython",
    "version": 3
   },
   "file_extension": ".py",
   "mimetype": "text/x-python",
   "name": "python",
   "nbconvert_exporter": "python",
   "pygments_lexer": "ipython3",
   "version": "3.7.0"
  }
 },
 "nbformat": 4,
 "nbformat_minor": 2
}
