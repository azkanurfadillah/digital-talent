{
 "cells": [
  {
   "cell_type": "markdown",
   "metadata": {},
   "source": [
    "#### Nama   :Azka Nurfadillah\n",
    "#### Kelas   :Big Data - B"
   ]
  },
  {
   "cell_type": "markdown",
   "metadata": {},
   "source": [
    "### Body Mass Index (BMI)\n",
    "Body Mass Index (BMI) menentukan sebuah keidealan berat badan terhadap tinggi badan."
   ]
  },
  {
   "cell_type": "code",
   "execution_count": 6,
   "metadata": {},
   "outputs": [
    {
     "name": "stdout",
     "output_type": "stream",
     "text": [
      "Berat Badan Anda  = 55 kg\n",
      "Tinggi Badan Anda = 168 cm\n",
      "BMI Anda          = 19.49\n",
      "Kategori BMI Anda = Normal (healthy weight)\n"
     ]
    }
   ],
   "source": [
    "weight_kg = 55\n",
    "height_cm = 168\n",
    "height_m = height_cm/100\n",
    "BMI = round(weight_kg / height_m ** 2,2)\n",
    "\n",
    "print(\"Berat Badan Anda  =\", weight_kg, \"kg\")\n",
    "print (\"Tinggi Badan Anda =\", height_cm, \"cm\")\n",
    "print(\"BMI Anda          =\", BMI)\n",
    "\n",
    "if BMI < 15:\n",
    "    print(\"Kategori BMI Anda = Very severely underweight\")\n",
    "\n",
    "if BMI >= 15:\n",
    "    if BMI < 16:\n",
    "        print(\"Kategori BMI Anda = Severely underweight\")\n",
    "    \n",
    "if BMI >= 16:\n",
    "    if BMI < 18.5:\n",
    "        print (\"Kategori BMI Anda = Underweight\")\n",
    "    \n",
    "if BMI >= 18.5:\n",
    "    if BMI < 25:\n",
    "        print (\"Kategori BMI Anda = Normal (healthy weight)\")\n",
    "\n",
    "if BMI >= 25:\n",
    "    if BMI < 30:\n",
    "        print(\"Kategori BMI Anda = Overweight\")\n",
    "    \n",
    "if BMI >= 30:\n",
    "    if BMI < 35:\n",
    "        print(\"Kategori BMI Anda = Moderately obese\")\n",
    "\n",
    "if BMI >= 35:\n",
    "    if BMI <= 40:\n",
    "        print(\"Kategori BMI Anda = Severely obese\")\n",
    "    \n",
    "if BMI > 40:\n",
    "    print(\"Kategori BMI Anda = Very severely obese\")"
   ]
  }
 ],
 "metadata": {
  "kernelspec": {
   "display_name": "Python 3",
   "language": "python",
   "name": "python3"
  },
  "language_info": {
   "codemirror_mode": {
    "name": "ipython",
    "version": 3
   },
   "file_extension": ".py",
   "mimetype": "text/x-python",
   "name": "python",
   "nbconvert_exporter": "python",
   "pygments_lexer": "ipython3",
   "version": "3.7.0"
  }
 },
 "nbformat": 4,
 "nbformat_minor": 2
}
